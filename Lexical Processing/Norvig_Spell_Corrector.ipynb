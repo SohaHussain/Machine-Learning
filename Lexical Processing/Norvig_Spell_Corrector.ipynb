{
  "nbformat": 4,
  "nbformat_minor": 0,
  "metadata": {
    "colab": {
      "provenance": [],
      "authorship_tag": "ABX9TyMM2f7/klXEaX1S7B7ESpnm",
      "include_colab_link": true
    },
    "kernelspec": {
      "name": "python3",
      "display_name": "Python 3"
    },
    "language_info": {
      "name": "python"
    }
  },
  "cells": [
    {
      "cell_type": "markdown",
      "metadata": {
        "id": "view-in-github",
        "colab_type": "text"
      },
      "source": [
        "<a href=\"https://colab.research.google.com/github/SohaHussain/Machine-Learning/blob/main/Lexical%20Processing/Norvig_Spell_Corrector.ipynb\" target=\"_parent\"><img src=\"https://colab.research.google.com/assets/colab-badge.svg\" alt=\"Open In Colab\"/></a>"
      ]
    },
    {
      "cell_type": "markdown",
      "source": [
        "### Spell Corrector"
      ],
      "metadata": {
        "id": "D26sw0i1A7WN"
      }
    },
    {
      "cell_type": "code",
      "execution_count": 1,
      "metadata": {
        "id": "g-aQH0AfApHf"
      },
      "outputs": [],
      "source": [
        "import re\n",
        "from collections import Counter"
      ]
    },
    {
      "cell_type": "code",
      "source": [
        "# to extract all words\n",
        "\n",
        "# \\w+ -> regular expression for words\n",
        "# converting words to lowercase and then tokenizing them\n",
        "def words(doc):\n",
        "  return re.findall(r'\\w+',doc.lower())"
      ],
      "metadata": {
        "id": "zpwiKkUBBDgv"
      },
      "execution_count": 2,
      "outputs": []
    },
    {
      "cell_type": "markdown",
      "source": [
        "A seed document acts like a lookup dictionary for a spell corrector since it contains the correct spellings of each word."
      ],
      "metadata": {
        "id": "XbMs3sp0CXFe"
      }
    },
    {
      "cell_type": "code",
      "source": [
        "# creating a frequency table of all words present in the seed document\n",
        "\n",
        "all_words = Counter(words(open('Seed document.txt').read()))\n",
        "print(len(words(open('Seed document.txt').read())))\n",
        "print(len(all_words))"
      ],
      "metadata": {
        "colab": {
          "base_uri": "https://localhost:8080/"
        },
        "id": "i81WJcYyBpGJ",
        "outputId": "3120b889-9c13-4dc8-c542-ff3fe4295f1d"
      },
      "execution_count": 3,
      "outputs": [
        {
          "output_type": "stream",
          "name": "stdout",
          "text": [
            "1057538\n",
            "30643\n"
          ]
        }
      ]
    },
    {
      "cell_type": "code",
      "source": [
        "# checking frequency of a random word\n",
        "\n",
        "all_words['are']"
      ],
      "metadata": {
        "colab": {
          "base_uri": "https://localhost:8080/"
        },
        "id": "EvMt45KqDNDF",
        "outputId": "8eb71faf-851b-4185-baf7-0812dd90ef50"
      },
      "execution_count": 6,
      "outputs": [
        {
          "output_type": "execute_result",
          "data": {
            "text/plain": [
              "3475"
            ]
          },
          "metadata": {},
          "execution_count": 6
        }
      ]
    },
    {
      "cell_type": "code",
      "source": [
        "# 5 most frequent words\n",
        "\n",
        "all_words.most_common(5)"
      ],
      "metadata": {
        "colab": {
          "base_uri": "https://localhost:8080/"
        },
        "id": "XBMkj7xbDho-",
        "outputId": "3043a882-375a-4543-d3e3-3fcc8c2c798a"
      },
      "execution_count": 7,
      "outputs": [
        {
          "output_type": "execute_result",
          "data": {
            "text/plain": [
              "[('the', 77235), ('of', 38359), ('and', 36781), ('to', 27547), ('in', 21349)]"
            ]
          },
          "metadata": {},
          "execution_count": 7
        }
      ]
    },
    {
      "cell_type": "code",
      "source": [
        "# creates edits that are one edit away from 'word'\n",
        "\n",
        "def edits_one(word):\n",
        "  alpha = 'abcdefghijklmnopqrstuvwxyz'\n",
        "  splits = [(word[:i], word[i:]) for i in range (len(word)+1) ]\n",
        "  deletes = [left + right[1:]    for left,right in splits if right]\n",
        "  inserts = [left + c + right    for left,right in splits for c in alpha]\n",
        "  replaces = [left+c+right[1:]   for left,right in splits if right for c in alpha]\n",
        "  transposes = [left+right[1]+right[0]+right[2:] for left,right in splits if len(right)>1]\n",
        "  return set(deletes+inserts+replaces+transposes)"
      ],
      "metadata": {
        "id": "-0F-miZvDmKF"
      },
      "execution_count": 8,
      "outputs": []
    },
    {
      "cell_type": "code",
      "source": [
        "# creates edits that are two edits away from 'word'\n",
        "\n",
        "def edits_two(word):\n",
        "  return (e2 for e1 in edits_one(word) for e2 in edits_one(e1))"
      ],
      "metadata": {
        "id": "V2wjo6h8I4a3"
      },
      "execution_count": 9,
      "outputs": []
    },
    {
      "cell_type": "code",
      "source": [
        "# The known() function filters out the valid English word from a list of given words. \n",
        "# It uses the frequency distribution as a dictionary that was created using the seed document. \n",
        "# If the words created using edits_one() and edits_two() are not in the dictionary, they’re discarded.\n",
        "\n",
        "def known(words):\n",
        "  return set( word for word in words if word in all_words)"
      ],
      "metadata": {
        "id": "-mb4euSXKIMY"
      },
      "execution_count": 24,
      "outputs": []
    },
    {
      "cell_type": "markdown",
      "source": [
        "the function possible_corrections() returns a list of all the potential words that can be the correct alternative spelling."
      ],
      "metadata": {
        "id": "Ozo_4BimP-Gp"
      }
    },
    {
      "cell_type": "markdown",
      "source": [
        "It first checks if the word is correct or not, i.e. if the word typed by the user is a present in the dictionary or not. If the word is present, it returns no spelling suggestions since it is already a correct dictionary word.\n",
        "\n",
        "If the user types a word which is not a dictionary word, then it creates a list of all the known words that are one edit distance away. If there are no valid words in the list created by edits_one() only then this function fetches a list of all known words that are two edits away from the input word\n",
        "\n",
        "If there are no known words that are two edits away, then the function returns the  original input word. This means that there are no alternatives that the spell corrector could find. Hence, it simply returns the original word."
      ],
      "metadata": {
        "id": "rJh8s6EoQCy2"
      }
    },
    {
      "cell_type": "code",
      "source": [
        "def pos_corrections(word):\n",
        "  return (known([word]) or known(edits_one(word)) or known(edits_two(word)) or [word])"
      ],
      "metadata": {
        "id": "9clpfkETLsz6"
      },
      "execution_count": 18,
      "outputs": []
    },
    {
      "cell_type": "code",
      "source": [
        "def prob(word, n=sum(all_words.values())):\n",
        "  return all_words[word]/n"
      ],
      "metadata": {
        "id": "Am1YXPfcMC2v"
      },
      "execution_count": 12,
      "outputs": []
    },
    {
      "cell_type": "code",
      "source": [
        "print(len(set(edits_one(\"monney\"))))\n",
        "print(edits_one(\"monney\"))"
      ],
      "metadata": {
        "colab": {
          "base_uri": "https://localhost:8080/"
        },
        "id": "2bPLdVfWMZBW",
        "outputId": "1e77ec6c-6fb8-4585-ac4b-a181d8212fb4"
      },
      "execution_count": 13,
      "outputs": [
        {
          "output_type": "stream",
          "name": "stdout",
          "text": [
            "336\n",
            "{'monnel', 'ponney', 'money', 'monyney', 'mfonney', 'mocnney', 'monner', 'monneyw', 'qonney', 'mononey', 'monnny', 'mvnney', 'mzonney', 'monneye', 'monnjey', 'monfey', 'mosnney', 'montney', 'monnely', 'imonney', 'monneyh', 'monncy', 'monnehy', 'moxnney', 'monnpy', 'monnqy', 'monnyy', 'molnney', 'monyey', 'monneyj', 'monoey', 'monaey', 'monnegy', 'monneuy', 'dmonney', 'moynney', 'monnzey', 'monkney', 'monneqy', 'monrney', 'monnxey', 'monneyc', 'morney', 'mownney', 'mfnney', 'monndey', 'monneyi', 'monnpey', 'monnye', 'mkonney', 'monngey', 'mtonney', 'mozney', 'monfney', 'monnsey', 'monneey', 'monneyq', 'emonney', 'jmonney', 'lmonney', 'monnecy', 'monnef', 'mnney', 'fonney', 'monuney', 'mornney', 'monpney', 'sonney', 'moeney', 'monnexy', 'cmonney', 'honney', 'pmonney', 'mconney', 'qmonney', 'monnen', 'mofney', 'mgonney', 'maonney', 'monnkey', 'moyney', 'meonney', 'mnonney', 'moneey', 'molney', 'mlonney', 'monnezy', 'monneya', 'zmonney', 'msonney', 'mofnney', 'moncey', 'monnwey', 'uonney', 'monneo', 'mrnney', 'monnqey', 'monnley', 'moniey', 'mxonney', 'monnery', 'monnhy', 'mmonney', 'monnfey', 'mongney', 'monne', 'monneyg', 'mvonney', 'monnefy', 'mnnney', 'moiney', 'minney', 'mohnney', 'monnek', 'mobnney', 'monnez', 'monned', 'monsney', 'monnaey', 'monneoy', 'moneny', 'ymonney', 'mznney', 'monnmey', 'tonney', 'mbnney', 'monkey', 'monnzy', 'omonney', 'xonney', 'monnepy', 'mynney', 'mopney', 'monnky', 'mtnney', 'monndy', 'monnes', 'monneyt', 'monneyu', 'monxney', 'nonney', 'oonney', 'monnedy', 'monneyy', 'monnee', 'moknney', 'mponney', 'mbonney', 'monbney', 'mojnney', 'nmonney', 'monneyp', 'monmney', 'menney', 'smonney', 'mojney', 'wmonney', 'lonney', 'mooney', 'mqnney', 'monnxy', 'mondney', 'amonney', 'monniey', 'mdnney', 'mwnney', 'moenney', 'ionney', 'monnby', 'mowney', 'monjey', 'monneyz', 'monneyv', 'monnev', 'monneh', 'mjonney', 'eonney', 'mnoney', 'monntey', 'xmonney', 'monbey', 'monnew', 'kmonney', 'monnem', 'monneys', 'vmonney', 'bmonney', 'monnvy', 'monney', 'donney', 'monnyey', 'momnney', 'moniney', 'monneny', 'mhonney', 'monmey', 'monnry', 'mognney', 'monneiy', 'mlnney', 'moonney', 'umonney', 'munney', 'monnjy', 'monley', 'tmonney', 'monnex', 'moneney', 'mokney', 'monnly', 'monwney', 'monvney', 'monrey', 'hmonney', 'monhey', 'monncey', 'monnec', 'ronney', 'mjnney', 'monneu', 'monzey', 'moqney', 'rmonney', 'myonney', 'jonney', 'moanney', 'moinney', 'monnty', 'moxney', 'monny', 'monzney', 'monnoey', 'monnuey', 'momney', 'monneq', 'moaney', 'monnevy', 'monneyr', 'mknney', 'mqonney', 'modnney', 'monnei', 'monwey', 'mpnney', 'moncney', 'mwonney', 'mounney', 'monnesy', 'monnfy', 'monnbey', 'monnoy', 'monneyd', 'muonney', 'moznney', 'monnej', 'mcnney', 'monnsy', 'monneby', 'movnney', 'monuey', 'monniy', 'monnmy', 'monaney', 'monnemy', 'monneay', 'monneg', 'monneyx', 'mxnney', 'mocney', 'monneyb', 'wonney', 'zonney', 'mondey', 'gmonney', 'vonney', 'monjney', 'mohney', 'monnwy', 'conney', 'omnney', 'monnay', 'monngy', 'onney', 'monnejy', 'msnney', 'konney', 'mongey', 'moqnney', 'mosney', 'monneyl', 'monnea', 'monpey', 'fmonney', 'monneyf', 'monnrey', 'motnney', 'mouney', 'monnety', 'monnet', 'motney', 'mopnney', 'monnep', 'mmnney', 'monneky', 'monhney', 'movney', 'gonney', 'mogney', 'mhnney', 'mobney', 'mionney', 'monnhey', 'monvey', 'bonney', 'monneyo', 'modney', 'monxey', 'monlney', 'manney', 'monqey', 'mgnney', 'monneyk', 'monneyn', 'mdonney', 'monsey', 'aonney', 'monnuy', 'mronney', 'monneb', 'monnney', 'montey', 'yonney', 'monnvey', 'monnewy', 'monneym', 'monqney'}\n"
          ]
        }
      ]
    },
    {
      "cell_type": "code",
      "source": [
        "print(known(edits_one(\"monney\")))"
      ],
      "metadata": {
        "colab": {
          "base_uri": "https://localhost:8080/"
        },
        "id": "AOgaHPeqMmaR",
        "outputId": "6df09f0b-1c5a-40e8-c2d0-cae4b252f182"
      },
      "execution_count": 14,
      "outputs": [
        {
          "output_type": "stream",
          "name": "stdout",
          "text": [
            "{'monkey', 'money'}\n"
          ]
        }
      ]
    },
    {
      "cell_type": "code",
      "source": [
        "print(len(set(edits_two(\"monney\"))))\n",
        "print(known(edits_one(\"monney\")))"
      ],
      "metadata": {
        "colab": {
          "base_uri": "https://localhost:8080/"
        },
        "id": "O7wEmKQvMx0m",
        "outputId": "a120abd3-91a5-414d-ccf6-b31d80f17d50"
      },
      "execution_count": 15,
      "outputs": [
        {
          "output_type": "stream",
          "name": "stdout",
          "text": [
            "51013\n",
            "{'monkey', 'money'}\n"
          ]
        }
      ]
    },
    {
      "cell_type": "code",
      "source": [
        "print(pos_corrections(\"monney\"))"
      ],
      "metadata": {
        "colab": {
          "base_uri": "https://localhost:8080/"
        },
        "id": "85UU3aciM3PW",
        "outputId": "21f446be-ba4e-475c-b998-fdc89576c2a6"
      },
      "execution_count": 19,
      "outputs": [
        {
          "output_type": "stream",
          "name": "stdout",
          "text": [
            "{'monkey', 'money'}\n"
          ]
        }
      ]
    },
    {
      "cell_type": "code",
      "source": [
        "print(prob(\"money\"))\n",
        "print(prob(\"monkey\"))"
      ],
      "metadata": {
        "colab": {
          "base_uri": "https://localhost:8080/"
        },
        "id": "r8yDDsnLM63h",
        "outputId": "3c1704aa-08bb-4374-b3fc-d72d197f5733"
      },
      "execution_count": 20,
      "outputs": [
        {
          "output_type": "stream",
          "name": "stdout",
          "text": [
            "0.00028746011963636295\n",
            "3.782369995215302e-06\n"
          ]
        }
      ]
    },
    {
      "cell_type": "code",
      "source": [
        "def spell_check(word):\n",
        "  \"Print the most probable spelling correction for `word` out of all the `possible_corrections`\"\n",
        "  correct_word = max(pos_corrections(word), key=prob)\n",
        "  if correct_word != word:\n",
        "    return \"Did you mean \" + correct_word + \"?\"\n",
        "  else:\n",
        "    return \"Correct spelling.\""
      ],
      "metadata": {
        "id": "IZ31jhvKNbfc"
      },
      "execution_count": 22,
      "outputs": []
    },
    {
      "cell_type": "code",
      "source": [
        "# test spell check\n",
        "print(spell_check(\"leaarn\"))"
      ],
      "metadata": {
        "colab": {
          "base_uri": "https://localhost:8080/"
        },
        "id": "-ItsFdmANqNc",
        "outputId": "b1ce967a-d4de-490f-8d79-c87cf1544a0b"
      },
      "execution_count": 25,
      "outputs": [
        {
          "output_type": "stream",
          "name": "stdout",
          "text": [
            "Did you mean learn?\n"
          ]
        }
      ]
    }
  ]
}